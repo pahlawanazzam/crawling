{
 "cells": [
  {
   "cell_type": "code",
   "execution_count": 20,
   "metadata": {},
   "outputs": [],
   "source": [
    "from selenium import webdriver\n",
    "import pandas as pd\n",
    "from selenium.webdriver.common.by import By\n",
    "from selenium.webdriver.common.action_chains import ActionChains"
   ]
  },
  {
   "cell_type": "code",
   "execution_count": 21,
   "metadata": {},
   "outputs": [],
   "source": [
    "url = 'https://www.bhinneka.com/jual?cari=piano'\n",
    "driver = webdriver.Chrome()\n",
    "driver.get(url)"
   ]
  },
  {
   "cell_type": "code",
   "execution_count": 22,
   "metadata": {},
   "outputs": [
    {
     "name": "stdout",
     "output_type": "stream",
     "text": [
      "[('KORG Piano Digital 88 Keys LP 380 - Black', 15893500, 'Tanjung Priok', 'Bhinneka'), ('KORG Piano Digital SP280 - White', 11917500, 'Tanjung Priok', 'Bhinneka'), ('KORG Piano Digital LP380 - White', 15893500, 'Tanjung Priok', 'Bhinneka'), ('OLIKE HAND ROLL PIANO / ORI / GARANSI RESMI', 499000, 'Panakkukang', 'TOP CELLULAR'), ('Electronic Keyboard Digital 61 Keys Piano Anak With Microphone', 149000, 'Sukmajaya', 'Blomgee Retail'), ('NESCAFE DOLCE GUSTO Mini Me Automatic Coffee Machine Piano - Black', 1469000, 'Tanjung Priok', 'Bhinneka'), ('Jasa Import Piano Borongan - Jasa Import Piano Klasik - 081335339733', 1000000, 'Jatinegara', 'Fuji Seo Cargo & Mesin HDPE'), ('Tefal Blendforce Piano BL477 Blender', 599000, 'Rumbai', 'AWponselOfficial'), ('Tefal Blendforce Piano BL477 Blender', 425000, 'Rumbai', 'AWgadget'), ('Kigumi Wooden Art Puzzle Piano', 227500, 'Kembangan', 'Kigumi Official Store'), ('Saklar Tripel Piano In Bow Broco Standard Urea Cream', 26500, 'Klaten Tengah', 'Rejo Listrik Klaten'), ('ZH1130k Arm rocker assy pelatuk piano mesin jiandong zh1130k komplit', 405000, 'Percut Sei Tuan', 'Deli sparepart'), ('Jasa Impor Alat Musik / Jasa Pengurusan Impor Piano Dan Sejenisnya', 150000, 'Jatinegara', 'Bexindo Group'), ('Arm pelatuk support rocker arm assy tapak burung piano komplit tf55 tf65 tf75 tf85', 259600, 'Percut Sei Tuan', 'Deli sparepart'), ('Zh1130 old rocker arm assy pelatuk piano mesin Jiandong zh1130 komplit jiandong zh 1130', 286000, 'Percut Sei Tuan', 'Deli sparepart'), ('Jasa Import Alat Musik Dari Jepang - Jasa Import Gitar Dan Piano Dari Jepang - 081335339733', 100000, 'Jatinegara', 'Fuji Seo Cargo & Mesin HDPE'), ('IMUNDEX Animal Series Mainan Edukasi Musical Organ Piano Anak Bayi BPA Free SNI Sky Blue', 110000, 'Cengkareng', 'IMUNDEX Official Store'), ('IMUNDEX Animal Series Mainan Edukasi Musical Organ Piano Anak Bayi BPA Free SNI Candy Pink', 110000, 'Cengkareng', 'IMUNDEX Official Store'), ('IMUNDEX Animal Series Mainan Edukasi Musical Organ Piano Anak Bayi BPA Free SNI Candy Pink + Phone Orange', 261250, 'Cengkareng', 'IMUNDEX Official Store'), ('IMUNDEX Animal Series Mainan Edukasi Musical Organ Piano Anak Bayi BPA Free SNI Sky Blue + Phone Purple', 261250, 'Cengkareng', ''), ('IMUNDEX Animal Series Mainan Edukasi Musical Organ Piano Anak Bayi BPA Free SNI Candy Pink + Phone Purple', 261250, 'Cengkareng', ''), ('IMUNDEX Animal Series Mainan Edukasi Musical Organ Piano Anak Bayi BPA Free SNI Sky Blue + Phone Orange', 261250, 'Cengkareng', '')]\n"
     ]
    }
   ],
   "source": [
    "ac = ActionChains(driver)\n",
    "products=[]\n",
    "items = driver.find_elements(By.CSS_SELECTOR, 'div.col.css-mz9zn6')\n",
    "for item in items:\n",
    "    product_name = item.find_element(By.CSS_SELECTOR, 'p.css-194yrqz').text\n",
    "    product_price = int(item.find_element(By.CSS_SELECTOR, 'div.price').text.replace('Rp', '').replace('.', '').strip())\n",
    "    location = item.find_element(By.CSS_SELECTOR, 'div.merchant-info.css-ejq1bh').find_elements(By.TAG_NAME, 'span')[0].text\n",
    "\n",
    "    mo = item.find_element(By.CSS_SELECTOR, 'a.product-wrapper.css-puqsxn')\n",
    "    ac.move_to_element(mo).perform()\n",
    "    shopper = item.find_element(By.CSS_SELECTOR, 'div.merchant-info.css-ejq1bh').find_elements(By.TAG_NAME, 'span')[1].text\n",
    "\n",
    "    products.append(\n",
    "        (product_name, product_price, location, shopper)\n",
    "    )\n",
    "\n",
    "print(products)\n",
    "\n",
    "#product_name = driver.find_elements(By.CSS_SELECTOR, 'div.col.css-mz9zn6')[0].find_element(By.CSS_SELECTOR, 'p.css-194yrqz').text\n",
    "#product_price = driver.find_elements(By.CSS_SELECTOR, 'div.col.css-mz9zn6')[0].find_element(By.CSS_SELECTOR, 'div.price').text.replace('Rp', '').replace('.', '')\n",
    "#location = driver.find_elements(By.CSS_SELECTOR, 'div.col.css-mz9zn6')[0].find_element(By.CSS_SELECTOR, 'div.merchant-info.css-ejq1bh').find_elements(By.TAG_NAME, 'span')[0].text\n",
    "\n",
    "#ac = ActionChains(driver)\n",
    "#mo = driver.find_elements(By.CSS_SELECTOR, 'div.col.css-mz9zn6')[0].find_element(By.CSS_SELECTOR, 'a.product-wrapper.css-puqsxn')\n",
    "#ac.move_to_element(mo).perform()\n",
    "#shopper = driver.find_elements(By.CSS_SELECTOR, 'div.col.css-mz9zn6')[0].find_element(By.CSS_SELECTOR, 'div.merchant-info.css-ejq1bh').find_elements(By.TAG_NAME, 'span')[1].text\n",
    "\n",
    "#print(product_name)\n",
    "#print(product_price)\n",
    "#print(location)\n",
    "#print(shopper)"
   ]
  },
  {
   "cell_type": "code",
   "execution_count": 23,
   "metadata": {},
   "outputs": [
    {
     "name": "stdout",
     "output_type": "stream",
     "text": [
      "                                         product_name  product_price  \\\n",
      "0           KORG Piano Digital 88 Keys LP 380 - Black       15893500   \n",
      "1                    KORG Piano Digital SP280 - White       11917500   \n",
      "2                    KORG Piano Digital LP380 - White       15893500   \n",
      "3         OLIKE HAND ROLL PIANO / ORI / GARANSI RESMI         499000   \n",
      "4   Electronic Keyboard Digital 61 Keys Piano Anak...         149000   \n",
      "5   NESCAFE DOLCE GUSTO Mini Me Automatic Coffee M...        1469000   \n",
      "6   Jasa Import Piano Borongan - Jasa Import Piano...        1000000   \n",
      "7                Tefal Blendforce Piano BL477 Blender         599000   \n",
      "8                Tefal Blendforce Piano BL477 Blender         425000   \n",
      "9                      Kigumi Wooden Art Puzzle Piano         227500   \n",
      "10  Saklar Tripel Piano In Bow Broco Standard Urea...          26500   \n",
      "11  ZH1130k Arm rocker assy pelatuk piano mesin ji...         405000   \n",
      "12  Jasa Impor Alat Musik / Jasa Pengurusan Impor ...         150000   \n",
      "13  Arm pelatuk support rocker arm assy tapak buru...         259600   \n",
      "14  Zh1130 old rocker arm assy pelatuk piano mesin...         286000   \n",
      "15  Jasa Import Alat Musik Dari Jepang - Jasa Impo...         100000   \n",
      "16  IMUNDEX Animal Series Mainan Edukasi Musical O...         110000   \n",
      "17  IMUNDEX Animal Series Mainan Edukasi Musical O...         110000   \n",
      "18  IMUNDEX Animal Series Mainan Edukasi Musical O...         261250   \n",
      "19  IMUNDEX Animal Series Mainan Edukasi Musical O...         261250   \n",
      "20  IMUNDEX Animal Series Mainan Edukasi Musical O...         261250   \n",
      "21  IMUNDEX Animal Series Mainan Edukasi Musical O...         261250   \n",
      "\n",
      "           location                      shopper  \n",
      "0     Tanjung Priok                     Bhinneka  \n",
      "1     Tanjung Priok                     Bhinneka  \n",
      "2     Tanjung Priok                     Bhinneka  \n",
      "3       Panakkukang                 TOP CELLULAR  \n",
      "4         Sukmajaya               Blomgee Retail  \n",
      "5     Tanjung Priok                     Bhinneka  \n",
      "6        Jatinegara  Fuji Seo Cargo & Mesin HDPE  \n",
      "7            Rumbai             AWponselOfficial  \n",
      "8            Rumbai                     AWgadget  \n",
      "9         Kembangan        Kigumi Official Store  \n",
      "10    Klaten Tengah          Rejo Listrik Klaten  \n",
      "11  Percut Sei Tuan               Deli sparepart  \n",
      "12       Jatinegara                Bexindo Group  \n",
      "13  Percut Sei Tuan               Deli sparepart  \n",
      "14  Percut Sei Tuan               Deli sparepart  \n",
      "15       Jatinegara  Fuji Seo Cargo & Mesin HDPE  \n",
      "16       Cengkareng       IMUNDEX Official Store  \n",
      "17       Cengkareng       IMUNDEX Official Store  \n",
      "18       Cengkareng       IMUNDEX Official Store  \n",
      "19       Cengkareng                               \n",
      "20       Cengkareng                               \n",
      "21       Cengkareng                               \n"
     ]
    }
   ],
   "source": [
    "df = pd.DataFrame(products, columns=['product_name', 'product_price', 'location', 'shopper'])\n",
    "print(df)"
   ]
  },
  {
   "cell_type": "code",
   "execution_count": 24,
   "metadata": {},
   "outputs": [
    {
     "name": "stdout",
     "output_type": "stream",
     "text": [
      "Data Saved To Local Disk\n"
     ]
    }
   ],
   "source": [
    "df.to_csv('punya azzam woi.csv', index=False)\n",
    "print('Data Saved To Local Disk')"
   ]
  },
  {
   "cell_type": "code",
   "execution_count": 25,
   "metadata": {},
   "outputs": [],
   "source": [
    "driver.close()"
   ]
  }
 ],
 "metadata": {
  "kernelspec": {
   "display_name": "base",
   "language": "python",
   "name": "python3"
  },
  "language_info": {
   "codemirror_mode": {
    "name": "ipython",
    "version": 3
   },
   "file_extension": ".py",
   "mimetype": "text/x-python",
   "name": "python",
   "nbconvert_exporter": "python",
   "pygments_lexer": "ipython3",
   "version": "3.9.12"
  },
  "orig_nbformat": 4
 },
 "nbformat": 4,
 "nbformat_minor": 2
}
